{
 "cells": [
  {
   "cell_type": "markdown",
   "metadata": {
    "papermill": {
     "duration": 0.01202,
     "end_time": "2021-04-11T09:20:40.093777",
     "exception": false,
     "start_time": "2021-04-11T09:20:40.081757",
     "status": "completed"
    },
    "tags": []
   },
   "source": [
    "<div align='center'><font size=\"5\" color='#00000'>Predicting Stock Prices</font></div>\n",
    "<br>\n",
    "<hr>"
   ]
  },
  {
   "cell_type": "markdown",
   "metadata": {
    "papermill": {
     "duration": 0.010113,
     "end_time": "2021-04-11T09:20:40.115457",
     "exception": false,
     "start_time": "2021-04-11T09:20:40.105344",
     "status": "completed"
    },
    "tags": []
   },
   "source": [
    "# <div id=\"chap1\">1. Import libraries"
   ]
  },
  {
   "cell_type": "code",
   "execution_count": 1,
   "metadata": {
    "_cell_guid": "b1076dfc-b9ad-4769-8c92-a6c4dae69d19",
    "_uuid": "8f2839f25d086af736a60e9eeb907d3b93b6e0e5",
    "execution": {
     "iopub.execute_input": "2021-04-11T09:20:40.142844Z",
     "iopub.status.busy": "2021-04-11T09:20:40.142153Z",
     "iopub.status.idle": "2021-04-11T09:20:47.601855Z",
     "shell.execute_reply": "2021-04-11T09:20:47.600754Z"
    },
    "papermill": {
     "duration": 7.476335,
     "end_time": "2021-04-11T09:20:47.602175",
     "exception": false,
     "start_time": "2021-04-11T09:20:40.125840",
     "status": "completed"
    },
    "tags": []
   },
   "outputs": [],
   "source": [
    "import numpy as np\n",
    "import pandas as pd\n",
    "\n",
    "import os\n",
    "import matplotlib.pyplot as plt\n",
    "import pandas_datareader as web\n",
    "import datetime as dt\n",
    "\n",
    "from sklearn.preprocessing import MinMaxScaler\n",
    "from tensorflow.keras.models import Sequential\n",
    "from tensorflow.keras.layers import Dense, Dropout, LSTM\n",
    "from tensorflow.keras.callbacks import ModelCheckpoint, EarlyStopping"
   ]
  },
  {
   "cell_type": "markdown",
   "metadata": {
    "papermill": {
     "duration": 0.010683,
     "end_time": "2021-04-11T09:20:47.624360",
     "exception": false,
     "start_time": "2021-04-11T09:20:47.613677",
     "status": "completed"
    },
    "tags": []
   },
   "source": [
    "**<font size=\"2\"><a href=\"#summary\">Back to summary</a></font>**\n",
    "\n",
    "----"
   ]
  },
  {
   "cell_type": "markdown",
   "metadata": {
    "papermill": {
     "duration": 0.010738,
     "end_time": "2021-04-11T09:20:47.646300",
     "exception": false,
     "start_time": "2021-04-11T09:20:47.635562",
     "status": "completed"
    },
    "tags": []
   },
   "source": [
    "# <div id=\"chap2\">2. Preprocessing"
   ]
  },
  {
   "cell_type": "code",
   "execution_count": 2,
   "metadata": {
    "execution": {
     "iopub.execute_input": "2021-04-11T09:20:47.674454Z",
     "iopub.status.busy": "2021-04-11T09:20:47.673511Z",
     "iopub.status.idle": "2021-04-11T09:20:47.676979Z",
     "shell.execute_reply": "2021-04-11T09:20:47.676406Z"
    },
    "papermill": {
     "duration": 0.019963,
     "end_time": "2021-04-11T09:20:47.677109",
     "exception": false,
     "start_time": "2021-04-11T09:20:47.657146",
     "status": "completed"
    },
    "tags": []
   },
   "outputs": [],
   "source": [
    "def load_data(company, start, end):\n",
    "    data = web.DataReader(company, 'yahoo', start, end)\n",
    "    return data"
   ]
  },
  {
   "cell_type": "code",
   "execution_count": 3,
   "metadata": {
    "execution": {
     "iopub.execute_input": "2021-04-11T09:20:47.702857Z",
     "iopub.status.busy": "2021-04-11T09:20:47.702226Z",
     "iopub.status.idle": "2021-04-11T09:20:47.705364Z",
     "shell.execute_reply": "2021-04-11T09:20:47.704951Z"
    },
    "papermill": {
     "duration": 0.017537,
     "end_time": "2021-04-11T09:20:47.705522",
     "exception": false,
     "start_time": "2021-04-11T09:20:47.687985",
     "status": "completed"
    },
    "tags": []
   },
   "outputs": [],
   "source": [
    "# Company to be focused on\n",
    "company = 'FB'"
   ]
  },
  {
   "cell_type": "code",
   "execution_count": 4,
   "metadata": {
    "execution": {
     "iopub.execute_input": "2021-04-11T09:20:47.736822Z",
     "iopub.status.busy": "2021-04-11T09:20:47.735776Z",
     "iopub.status.idle": "2021-04-11T09:20:49.406238Z",
     "shell.execute_reply": "2021-04-11T09:20:49.405619Z"
    },
    "papermill": {
     "duration": 1.690034,
     "end_time": "2021-04-11T09:20:49.406370",
     "exception": false,
     "start_time": "2021-04-11T09:20:47.716336",
     "status": "completed"
    },
    "tags": []
   },
   "outputs": [],
   "source": [
    "data = load_data(company = company,\n",
    "                 start = dt.datetime(2012,1,1),\n",
    "                 end = dt.datetime(2019,1,1))"
   ]
  },
  {
   "cell_type": "code",
   "execution_count": 5,
   "metadata": {
    "execution": {
     "iopub.execute_input": "2021-04-11T09:20:49.432047Z",
     "iopub.status.busy": "2021-04-11T09:20:49.431424Z",
     "iopub.status.idle": "2021-04-11T09:20:49.436270Z",
     "shell.execute_reply": "2021-04-11T09:20:49.436851Z"
    },
    "papermill": {
     "duration": 0.019331,
     "end_time": "2021-04-11T09:20:49.437028",
     "exception": false,
     "start_time": "2021-04-11T09:20:49.417697",
     "status": "completed"
    },
    "tags": []
   },
   "outputs": [],
   "source": [
    "scaler = MinMaxScaler(feature_range=(0,1))\n",
    "scaled_data = scaler.fit_transform(data['Close'].values.reshape(-1,1))"
   ]
  },
  {
   "cell_type": "code",
   "execution_count": 6,
   "metadata": {
    "execution": {
     "iopub.execute_input": "2021-04-11T09:20:49.464349Z",
     "iopub.status.busy": "2021-04-11T09:20:49.463745Z",
     "iopub.status.idle": "2021-04-11T09:20:49.471324Z",
     "shell.execute_reply": "2021-04-11T09:20:49.471815Z"
    },
    "papermill": {
     "duration": 0.022344,
     "end_time": "2021-04-11T09:20:49.471993",
     "exception": false,
     "start_time": "2021-04-11T09:20:49.449649",
     "status": "completed"
    },
    "tags": []
   },
   "outputs": [],
   "source": [
    "# how many days do i want to base my predictions on ?\n",
    "prediction_days = 60\n",
    "\n",
    "x_train = []\n",
    "y_train = []\n",
    "\n",
    "for x in range(prediction_days, len(scaled_data)):\n",
    "    x_train.append(scaled_data[x - prediction_days:x, 0])\n",
    "    y_train.append(scaled_data[x, 0])\n",
    "    \n",
    "x_train, y_train = np.array(x_train), np.array(y_train)\n",
    "x_train = np.reshape(x_train, (x_train.shape[0], x_train.shape[1], 1))"
   ]
  },
  {
   "cell_type": "markdown",
   "metadata": {
    "papermill": {
     "duration": 0.011029,
     "end_time": "2021-04-11T09:20:49.494595",
     "exception": false,
     "start_time": "2021-04-11T09:20:49.483566",
     "status": "completed"
    },
    "tags": []
   },
   "source": [
    "**<font size=\"2\"><a href=\"#summary\">Back to summary</a></font>**\n",
    "\n",
    "----"
   ]
  },
  {
   "cell_type": "markdown",
   "metadata": {
    "papermill": {
     "duration": 0.011054,
     "end_time": "2021-04-11T09:20:49.517037",
     "exception": false,
     "start_time": "2021-04-11T09:20:49.505983",
     "status": "completed"
    },
    "tags": []
   },
   "source": [
    "# <div id=\"chap3\">3. Build LSTM model"
   ]
  },
  {
   "cell_type": "markdown",
   "metadata": {
    "papermill": {
     "duration": 0.011115,
     "end_time": "2021-04-11T09:20:49.539651",
     "exception": false,
     "start_time": "2021-04-11T09:20:49.528536",
     "status": "completed"
    },
    "tags": []
   },
   "source": [
    "**<font color=\"blue\" size=\"4\">What is a LSTM ?</font>**\n",
    "\n",
    "> Long Short Term Memory networks – usually just called “LSTMs” – are a special kind of RNN, capable of learning long-term dependencies. Introduced by Hochreiter & Schmidhuber (1997), and were refined and popularized by many people in following work. They work tremendously well on a large variety of problems, and are now widely used.\n",
    "\n",
    "> LSTMs are explicitly designed to avoid the long-term dependency problem. Remembering information for long periods of time is practically their default behavior, not something they struggle to learn!\n",
    "\n",
    "> All recurrent neural networks have the form of a chain of repeating modules of neural network."
   ]
  },
  {
   "cell_type": "markdown",
   "metadata": {
    "papermill": {
     "duration": 0.010993,
     "end_time": "2021-04-11T09:20:49.561930",
     "exception": false,
     "start_time": "2021-04-11T09:20:49.550937",
     "status": "completed"
    },
    "tags": []
   },
   "source": [
    "You can find more details here: http://colah.github.io/posts/2015-08-Understanding-LSTMs/"
   ]
  },
  {
   "cell_type": "code",
   "execution_count": 7,
   "metadata": {
    "execution": {
     "iopub.execute_input": "2021-04-11T09:20:49.587660Z",
     "iopub.status.busy": "2021-04-11T09:20:49.587090Z",
     "iopub.status.idle": "2021-04-11T09:20:49.592046Z",
     "shell.execute_reply": "2021-04-11T09:20:49.592538Z"
    },
    "papermill": {
     "duration": 0.019312,
     "end_time": "2021-04-11T09:20:49.592716",
     "exception": false,
     "start_time": "2021-04-11T09:20:49.573404",
     "status": "completed"
    },
    "tags": []
   },
   "outputs": [],
   "source": [
    "def LSTM_model():\n",
    "    \n",
    "    model = Sequential()\n",
    "    \n",
    "    model.add(LSTM(units = 50, return_sequences = True, input_shape = (x_train.shape[1],1)))\n",
    "    model.add(Dropout(0.2))\n",
    "\n",
    "    model.add(LSTM(units = 50, return_sequences = True))\n",
    "    model.add(Dropout(0.2))\n",
    "\n",
    "    model.add(LSTM(units = 50))\n",
    "    model.add(Dropout(0.2))\n",
    "    \n",
    "    model.add(Dense(units=1))\n",
    "    \n",
    "    return model"
   ]
  },
  {
   "cell_type": "markdown",
   "metadata": {
    "papermill": {
     "duration": 0.011236,
     "end_time": "2021-04-11T09:20:49.615344",
     "exception": false,
     "start_time": "2021-04-11T09:20:49.604108",
     "status": "completed"
    },
    "tags": []
   },
   "source": [
    "**<font size=\"2\"><a href=\"#summary\">Back to summary</a></font>**\n",
    "\n",
    "----"
   ]
  },
  {
   "cell_type": "markdown",
   "metadata": {
    "papermill": {
     "duration": 0.01081,
     "end_time": "2021-04-11T09:20:49.637840",
     "exception": false,
     "start_time": "2021-04-11T09:20:49.627030",
     "status": "completed"
    },
    "tags": []
   },
   "source": [
    "# <div id=\"chap4\">4. Training"
   ]
  },
  {
   "cell_type": "code",
   "execution_count": 8,
   "metadata": {
    "execution": {
     "iopub.execute_input": "2021-04-11T09:20:49.663549Z",
     "iopub.status.busy": "2021-04-11T09:20:49.662961Z",
     "iopub.status.idle": "2021-04-11T09:20:50.461847Z",
     "shell.execute_reply": "2021-04-11T09:20:50.461231Z"
    },
    "papermill": {
     "duration": 0.812889,
     "end_time": "2021-04-11T09:20:50.461990",
     "exception": false,
     "start_time": "2021-04-11T09:20:49.649101",
     "status": "completed"
    },
    "tags": []
   },
   "outputs": [
    {
     "name": "stdout",
     "output_type": "stream",
     "text": [
      "Model: \"sequential\"\n",
      "_________________________________________________________________\n",
      "Layer (type)                 Output Shape              Param #   \n",
      "=================================================================\n",
      "lstm (LSTM)                  (None, 60, 50)            10400     \n",
      "_________________________________________________________________\n",
      "dropout (Dropout)            (None, 60, 50)            0         \n",
      "_________________________________________________________________\n",
      "lstm_1 (LSTM)                (None, 60, 50)            20200     \n",
      "_________________________________________________________________\n",
      "dropout_1 (Dropout)          (None, 60, 50)            0         \n",
      "_________________________________________________________________\n",
      "lstm_2 (LSTM)                (None, 50)                20200     \n",
      "_________________________________________________________________\n",
      "dropout_2 (Dropout)          (None, 50)                0         \n",
      "_________________________________________________________________\n",
      "dense (Dense)                (None, 1)                 51        \n",
      "=================================================================\n",
      "Total params: 50,851\n",
      "Trainable params: 50,851\n",
      "Non-trainable params: 0\n",
      "_________________________________________________________________\n"
     ]
    }
   ],
   "source": [
    "model = LSTM_model()\n",
    "model.summary()\n",
    "model.compile(optimizer='adam', \n",
    "              loss='mean_squared_error')"
   ]
  },
  {
   "cell_type": "code",
   "execution_count": 9,
   "metadata": {
    "execution": {
     "iopub.execute_input": "2021-04-11T09:20:50.491198Z",
     "iopub.status.busy": "2021-04-11T09:20:50.490624Z",
     "iopub.status.idle": "2021-04-11T09:22:27.806330Z",
     "shell.execute_reply": "2021-04-11T09:22:27.805875Z"
    },
    "papermill": {
     "duration": 97.332443,
     "end_time": "2021-04-11T09:22:27.806497",
     "exception": false,
     "start_time": "2021-04-11T09:20:50.474054",
     "status": "completed"
    },
    "tags": []
   },
   "outputs": [
    {
     "name": "stdout",
     "output_type": "stream",
     "text": [
      "Epoch 1/25\n",
      "51/51 [==============================] - 8s 77ms/step - loss: 0.0769\n",
      "Epoch 2/25\n",
      "51/51 [==============================] - 4s 74ms/step - loss: 0.0040\n",
      "Epoch 3/25\n",
      "51/51 [==============================] - 4s 74ms/step - loss: 0.0031\n",
      "Epoch 4/25\n",
      "51/51 [==============================] - 4s 74ms/step - loss: 0.0030\n",
      "Epoch 5/25\n",
      "51/51 [==============================] - 4s 72ms/step - loss: 0.0031\n",
      "Epoch 6/25\n",
      "51/51 [==============================] - 4s 71ms/step - loss: 0.0027\n",
      "Epoch 7/25\n",
      "51/51 [==============================] - 4s 74ms/step - loss: 0.0032\n",
      "Epoch 8/25\n",
      "51/51 [==============================] - 4s 74ms/step - loss: 0.0022\n",
      "Epoch 9/25\n",
      "51/51 [==============================] - 4s 77ms/step - loss: 0.0025\n",
      "Epoch 10/25\n",
      "51/51 [==============================] - 4s 71ms/step - loss: 0.0032\n",
      "Epoch 11/25\n",
      "51/51 [==============================] - 4s 72ms/step - loss: 0.0023\n",
      "Epoch 12/25\n",
      "51/51 [==============================] - 4s 71ms/step - loss: 0.0024\n",
      "Epoch 13/25\n",
      "51/51 [==============================] - 4s 71ms/step - loss: 0.0021\n",
      "Epoch 14/25\n",
      "51/51 [==============================] - 4s 70ms/step - loss: 0.0027\n",
      "Epoch 15/25\n",
      "51/51 [==============================] - 4s 72ms/step - loss: 0.0021\n",
      "Epoch 16/25\n",
      "51/51 [==============================] - 4s 72ms/step - loss: 0.0021\n",
      "Epoch 17/25\n",
      "51/51 [==============================] - 4s 72ms/step - loss: 0.0020\n",
      "Epoch 18/25\n",
      "51/51 [==============================] - 4s 75ms/step - loss: 0.0021\n",
      "Epoch 19/25\n",
      "51/51 [==============================] - 4s 74ms/step - loss: 0.0018\n",
      "Epoch 20/25\n",
      "51/51 [==============================] - 4s 72ms/step - loss: 0.0018\n",
      "Epoch 21/25\n",
      "51/51 [==============================] - 4s 71ms/step - loss: 0.0020\n",
      "Epoch 22/25\n",
      "51/51 [==============================] - 4s 72ms/step - loss: 0.0021\n",
      "Epoch 23/25\n",
      "51/51 [==============================] - 4s 72ms/step - loss: 0.0017\n",
      "Epoch 24/25\n",
      "51/51 [==============================] - 4s 72ms/step - loss: 0.0019\n",
      "Epoch 25/25\n",
      "51/51 [==============================] - 4s 72ms/step - loss: 0.0022\n"
     ]
    },
    {
     "data": {
      "text/plain": [
       "<tensorflow.python.keras.callbacks.History at 0x7f7adc637650>"
      ]
     },
     "execution_count": 9,
     "metadata": {},
     "output_type": "execute_result"
    }
   ],
   "source": [
    "# Define callbacks\n",
    "\n",
    "# Save weights only for best model\n",
    "checkpointer = ModelCheckpoint(filepath = 'weights_best.hdf5', \n",
    "                               verbose = 2, \n",
    "                               save_best_only = True)\n",
    "\n",
    "model.fit(x_train, \n",
    "          y_train, \n",
    "          epochs=25, \n",
    "          batch_size = 32,\n",
    "          callbacks = [checkpointer])"
   ]
  },
  {
   "cell_type": "markdown",
   "metadata": {
    "papermill": {
     "duration": 0.313388,
     "end_time": "2021-04-11T09:22:28.431231",
     "exception": false,
     "start_time": "2021-04-11T09:22:28.117843",
     "status": "completed"
    },
    "tags": []
   },
   "source": [
    "**<font size=\"2\"><a href=\"#summary\">Back to summary</a></font>**\n",
    "\n",
    "----"
   ]
  },
  {
   "cell_type": "markdown",
   "metadata": {
    "papermill": {
     "duration": 0.31291,
     "end_time": "2021-04-11T09:22:29.059626",
     "exception": false,
     "start_time": "2021-04-11T09:22:28.746716",
     "status": "completed"
    },
    "tags": []
   },
   "source": [
    "# <div id=\"chap5\">5. Predictions"
   ]
  },
  {
   "cell_type": "code",
   "execution_count": 10,
   "metadata": {
    "execution": {
     "iopub.execute_input": "2021-04-11T09:22:29.692810Z",
     "iopub.status.busy": "2021-04-11T09:22:29.692216Z",
     "iopub.status.idle": "2021-04-11T09:22:31.341582Z",
     "shell.execute_reply": "2021-04-11T09:22:31.340977Z"
    },
    "papermill": {
     "duration": 1.970097,
     "end_time": "2021-04-11T09:22:31.341742",
     "exception": false,
     "start_time": "2021-04-11T09:22:29.371645",
     "status": "completed"
    },
    "tags": []
   },
   "outputs": [],
   "source": [
    "# test model acc on existing data\n",
    "test_data = load_data(company = 'FB',\n",
    "                      start = dt.datetime(2019,1,1),\n",
    "                      end = dt.datetime.now())\n",
    "\n",
    "actual_prices = test_data['Close'].values\n",
    "\n",
    "total_dataset = pd.concat((data['Close'], test_data['Close']), axis=0)\n",
    "\n",
    "model_inputs = total_dataset[len(total_dataset) - len(test_data) - prediction_days:].values\n",
    "model_inputs = model_inputs.reshape(-1,1)\n",
    "model_inputs = scaler.transform(model_inputs)"
   ]
  },
  {
   "cell_type": "code",
   "execution_count": 11,
   "metadata": {
    "execution": {
     "iopub.execute_input": "2021-04-11T09:22:31.967208Z",
     "iopub.status.busy": "2021-04-11T09:22:31.966568Z",
     "iopub.status.idle": "2021-04-11T09:22:33.358981Z",
     "shell.execute_reply": "2021-04-11T09:22:33.358279Z"
    },
    "papermill": {
     "duration": 1.708419,
     "end_time": "2021-04-11T09:22:33.359127",
     "exception": false,
     "start_time": "2021-04-11T09:22:31.650708",
     "status": "completed"
    },
    "tags": []
   },
   "outputs": [],
   "source": [
    "x_test = []\n",
    "for x in range(prediction_days, len(model_inputs)):\n",
    "    x_test.append(model_inputs[x-prediction_days:x, 0])\n",
    "\n",
    "x_test = np.array(x_test)\n",
    "x_test = np.reshape(x_test, (x_test.shape[0], x_test.shape[1] ,1))\n",
    "\n",
    "predicted_prices = model.predict(x_test)\n",
    "predicted_prices = scaler.inverse_transform(predicted_prices)"
   ]
  },
  {
   "cell_type": "code",
   "execution_count": 12,
   "metadata": {
    "execution": {
     "iopub.execute_input": "2021-04-11T09:22:34.030075Z",
     "iopub.status.busy": "2021-04-11T09:22:33.993408Z",
     "iopub.status.idle": "2021-04-11T09:22:34.186091Z",
     "shell.execute_reply": "2021-04-11T09:22:34.185505Z"
    },
    "papermill": {
     "duration": 0.516541,
     "end_time": "2021-04-11T09:22:34.186227",
     "exception": false,
     "start_time": "2021-04-11T09:22:33.669686",
     "status": "completed"
    },
    "tags": []
   },
   "outputs": [
    {
     "data": {
      "image/png": "[encoded data removed]",
      "text/plain": [
       "<Figure size 432x288 with 1 Axes>"
      ]
     },
     "metadata": {
      "needs_background": "light"
     },
     "output_type": "display_data"
    }
   ],
   "source": [
    "plt.plot(actual_prices, color='black', label=f\"Actual {company} price\")\n",
    "plt.plot(predicted_prices, color= 'green', label=f\"predicted {company} price\")\n",
    "plt.title(f\"{company} share price\")\n",
    "plt.xlabel(\"time\")\n",
    "plt.ylabel(f\"{company} share price\")\n",
    "plt.legend()\n",
    "plt.show()"
   ]
  },
  {
   "cell_type": "code",
   "execution_count": 13,
   "metadata": {
    "execution": {
     "iopub.execute_input": "2021-04-11T09:22:34.817582Z",
     "iopub.status.busy": "2021-04-11T09:22:34.816665Z",
     "iopub.status.idle": "2021-04-11T09:22:34.819980Z",
     "shell.execute_reply": "2021-04-11T09:22:34.819465Z"
    },
    "papermill": {
     "duration": 0.324058,
     "end_time": "2021-04-11T09:22:34.820125",
     "exception": false,
     "start_time": "2021-04-11T09:22:34.496067",
     "status": "completed"
    },
    "tags": []
   },
   "outputs": [],
   "source": [
    "# predicting next day\n",
    "real_data = [model_inputs[len(model_inputs)+1 - prediction_days:len(model_inputs+1),0]]\n",
    "real_data = np.array(real_data)\n",
    "real_data = np.reshape(real_data, (real_data.shape[0], real_data.shape[1], 1))"
   ]
  },
  {
   "cell_type": "code",
   "execution_count": 14,
   "metadata": {
    "execution": {
     "iopub.execute_input": "2021-04-11T09:22:35.482780Z",
     "iopub.status.busy": "2021-04-11T09:22:35.481126Z",
     "iopub.status.idle": "2021-04-11T09:22:36.438954Z",
     "shell.execute_reply": "2021-04-11T09:22:36.439472Z"
    },
    "papermill": {
     "duration": 1.297792,
     "end_time": "2021-04-11T09:22:36.439662",
     "exception": false,
     "start_time": "2021-04-11T09:22:35.141870",
     "status": "completed"
    },
    "tags": []
   },
   "outputs": [
    {
     "name": "stdout",
     "output_type": "stream",
     "text": [
      "prediction: [[270.7709]]\n"
     ]
    }
   ],
   "source": [
    "prediction = model.predict(real_data)\n",
    "prediction = scaler.inverse_transform(prediction)\n",
    "print(f\"prediction: {prediction}\")"
   ]
  }
 ],
 "metadata": {
  "kernelspec": {
   "display_name": "Python 3",
   "language": "python",
   "name": "python3"
  },
  "language_info": {
   "codemirror_mode": {
    "name": "ipython",
    "version": 3
   },
   "file_extension": ".py",
   "mimetype": "text/x-python",
   "name": "python",
   "nbconvert_exporter": "python",
   "pygments_lexer": "ipython3",
   "version": "3.7.9"
  },
  "papermill": {
   "default_parameters": {},
   "duration": 123.324079,
   "end_time": "2021-04-11T09:22:38.065020",
   "environment_variables": {},
   "exception": null,
   "input_path": "__notebook__.ipynb",
   "output_path": "__notebook__.ipynb",
   "parameters": {},
   "start_time": "2021-04-11T09:20:34.740941",
   "version": "2.2.2"
  }
 },
 "nbformat": 4,
 "nbformat_minor": 4
}
